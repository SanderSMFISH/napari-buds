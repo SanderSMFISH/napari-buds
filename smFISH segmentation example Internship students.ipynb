{
 "cells": [
  {
   "cell_type": "code",
   "execution_count": null,
   "id": "8bd0fd9d",
   "metadata": {},
   "outputs": [],
   "source": [
    "#file navigation tools\n",
    "from glob import glob\n",
    "import os\n",
    "#image analysis library\n",
    "from skimage import io\n",
    "#jupyter notebook img display\n",
    "import stackview\n",
    "#The fundamental package for scientific computing with Python\n",
    "import numpy as np\n",
    "#python image viewer \n",
    "import napari\n",
    "#excel for python\n",
    "import pandas as pd"
   ]
  },
  {
   "cell_type": "markdown",
   "id": "d9c4e97b",
   "metadata": {},
   "source": [
    "Download example data for the segmentation tutorial from https://zenodo.org/record/7004556. You can also download all the data by executing the code block below."
   ]
  },
  {
   "cell_type": "code",
   "execution_count": null,
   "id": "02595070",
   "metadata": {},
   "outputs": [],
   "source": [
    "#%cd D:\\path\\where\\you\\want\\to\\save\\data\n",
    "#!zenodo_get -d 10.5281/zenodo.7004556 "
   ]
  },
  {
   "cell_type": "code",
   "execution_count": null,
   "id": "530fa04d",
   "metadata": {},
   "outputs": [],
   "source": [
    "#change path to location of saved files\n",
    "path='location\\of\\data\\Experiment_01*'\n",
    "files=glob(path)\n",
    "files"
   ]
  },
  {
   "cell_type": "markdown",
   "id": "c975d405",
   "metadata": {},
   "source": [
    "Load the first image into memory."
   ]
  },
  {
   "cell_type": "code",
   "execution_count": null,
   "id": "fa809212",
   "metadata": {},
   "outputs": [],
   "source": [
    "img= io.imread(files[0],plugin='pil')"
   ]
  },
  {
   "cell_type": "markdown",
   "id": "31f2f6e8",
   "metadata": {},
   "source": [
    "Inspect the dimensions of the loaded image."
   ]
  },
  {
   "cell_type": "code",
   "execution_count": null,
   "id": "44183722",
   "metadata": {},
   "outputs": [],
   "source": [
    "img.shape"
   ]
  },
  {
   "cell_type": "markdown",
   "id": "33d66c08",
   "metadata": {},
   "source": [
    "Reshape image to create 4d image stack"
   ]
  },
  {
   "cell_type": "code",
   "execution_count": null,
   "id": "a72f906a",
   "metadata": {},
   "outputs": [],
   "source": [
    "img=np.expand_dims(img,1)\n",
    "img=np.reshape(img,(4,41,2304,2304))\n",
    "img.shape"
   ]
  },
  {
   "cell_type": "markdown",
   "id": "19be6fcb",
   "metadata": {},
   "source": [
    "Inspect the different fluorescent channels and Ztiles of the loaded img"
   ]
  },
  {
   "cell_type": "code",
   "execution_count": null,
   "id": "19b5726c",
   "metadata": {
    "scrolled": true
   },
   "outputs": [],
   "source": [
    "c=0 # change this between 0 and 2 to switch channel \n",
    "stackview.slice(img[c,...])"
   ]
  },
  {
   "cell_type": "markdown",
   "id": "c73c03ef",
   "metadata": {},
   "source": [
    "Describe which layers of the image are in focus."
   ]
  },
  {
   "cell_type": "code",
   "execution_count": null,
   "id": "aece37a4",
   "metadata": {},
   "outputs": [],
   "source": [
    "focus=[23,40]"
   ]
  },
  {
   "cell_type": "markdown",
   "id": "f4f32659",
   "metadata": {},
   "source": [
    "Perform a max projection on the different channels of the image."
   ]
  },
  {
   "cell_type": "code",
   "execution_count": null,
   "id": "a9c32c32",
   "metadata": {
    "scrolled": true
   },
   "outputs": [],
   "source": [
    "zproject=np.amax(img[:,focus[0]:focus[1],...],axis=1,keepdims=False)\n",
    "zproject.shape"
   ]
  },
  {
   "cell_type": "markdown",
   "id": "1d659fc9",
   "metadata": {},
   "source": [
    "Inspect the Zprojected image. Which channel number belongs to which fluorescent dye (Dapi,CY3, CY5)?"
   ]
  },
  {
   "cell_type": "code",
   "execution_count": null,
   "id": "0010dfe2",
   "metadata": {},
   "outputs": [],
   "source": [
    "stackview.slice(zproject)"
   ]
  },
  {
   "cell_type": "markdown",
   "id": "94fadaef",
   "metadata": {},
   "source": [
    "Adjust the channel order accordingly. Additionally choose the color these channels should be displayed in."
   ]
  },
  {
   "cell_type": "code",
   "execution_count": null,
   "id": "acf9fe09",
   "metadata": {},
   "outputs": [],
   "source": [
    "channels=['CY3','CY5','DAPI','CY3.5']\n",
    "colors=['green','magenta','blue','cyan']"
   ]
  },
  {
   "cell_type": "markdown",
   "id": "f8747605",
   "metadata": {},
   "source": [
    "Load the DIC img."
   ]
  },
  {
   "cell_type": "code",
   "execution_count": null,
   "id": "04720dea",
   "metadata": {},
   "outputs": [],
   "source": [
    "DIC= io.imread(files[1])\n",
    "DIC.shape"
   ]
  },
  {
   "cell_type": "code",
   "execution_count": null,
   "id": "d8081566",
   "metadata": {
    "scrolled": false
   },
   "outputs": [],
   "source": [
    "stackview.slice(DIC)"
   ]
  },
  {
   "cell_type": "markdown",
   "id": "e14e5d3b",
   "metadata": {},
   "source": [
    "Run Napari and open the napari-buds plugin as indicated in the Tutorial_Napari_Buds.pdf."
   ]
  },
  {
   "cell_type": "code",
   "execution_count": null,
   "id": "37253653",
   "metadata": {
    "scrolled": true
   },
   "outputs": [],
   "source": [
    "viewer= napari.Viewer()\n",
    "\n",
    "viewer.add_image(DIC, name='DIC', opacity=0.50)\n",
    "for i in range(zproject.shape[0]):\n",
    "    viewer.add_image(zproject[i,...],name=channels[i],colormap=colors[i],opacity=0.30)"
   ]
  },
  {
   "cell_type": "markdown",
   "id": "4c7dd989",
   "metadata": {},
   "source": [
    "Excute this cell after performing and correcting cell and bud segmentation in Napari buds to save the resulting cell and bud masks."
   ]
  },
  {
   "cell_type": "code",
   "execution_count": null,
   "id": "894b1fb4",
   "metadata": {},
   "outputs": [],
   "source": [
    "path=r\"D:\\save\\to\\your\\folder\"\n",
    "filename=\"fov_000.tif\"\n",
    "\n",
    "# make nuclei directory if does not exist\n",
    "if not os.path.isdir(os.path.join(path,'nuclei')):\n",
    "    os.makedirs(os.path.join(path,'nuclei'))\n",
    "\n",
    "# make cell mask if doesn't exist\n",
    "if not os.path.isdir(os.path.join(path,'cells')):\n",
    "    os.makedirs(os.path.join(path,'cells'))\n",
    "\n",
    "# make buds mask directory\n",
    "if not os.path.isdir(os.path.join(path,'buds')):\n",
    "    os.makedirs(os.path.join(path,'buds'))\n",
    "\n",
    "io.imsave(os.path.join(path,'nuclei',filename),viewer.layers['seeds'].data)\n",
    "io.imsave(os.path.join(path,'cells',filename),viewer.layers['cell mask'].data)\n",
    "io.imsave(os.path.join(path,'buds',filename),viewer.layers['buds'].data)"
   ]
  }
 ],
 "metadata": {
  "kernelspec": {
   "display_name": "Python 3 (ipykernel)",
   "language": "python",
   "name": "python3"
  },
  "language_info": {
   "codemirror_mode": {
    "name": "ipython",
    "version": 3
   },
   "file_extension": ".py",
   "mimetype": "text/x-python",
   "name": "python",
   "nbconvert_exporter": "python",
   "pygments_lexer": "ipython3",
   "version": "3.9.13"
  }
 },
 "nbformat": 4,
 "nbformat_minor": 5
}
