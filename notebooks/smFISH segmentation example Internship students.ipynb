{
 "cells": [
  {
   "cell_type": "code",
   "execution_count": 1,
   "id": "0c675183",
   "metadata": {},
   "outputs": [
    {
     "name": "stdout",
     "output_type": "stream",
     "text": [
      "Obtaining file:///D:/Dropbox/Sander%20BackUp%20Alienware/Python_Segmentation_Spot_Detection_Pipeline/cookiecutter/napari-buds-fromG/napari-buds\n",
      "  Installing build dependencies: started\n",
      "  Installing build dependencies: finished with status 'done'\n",
      "  Checking if build backend supports build_editable: started\n",
      "  Checking if build backend supports build_editable: finished with status 'done'\n",
      "  Getting requirements to build editable: started\n",
      "  Getting requirements to build editable: finished with status 'done'\n",
      "  Preparing editable metadata (pyproject.toml): started\n",
      "  Preparing editable metadata (pyproject.toml): finished with status 'done'\n",
      "Requirement already satisfied: qtpy in c:\\users\\sander\\anaconda3\\envs\\napari-bud-test\\lib\\site-packages (from napari-buds==0.1.3) (2.2.0)\n",
      "Requirement already satisfied: magic-class in c:\\users\\sander\\anaconda3\\envs\\napari-bud-test\\lib\\site-packages (from napari-buds==0.1.3) (0.6.10)\n",
      "Requirement already satisfied: napari in c:\\users\\sander\\anaconda3\\envs\\napari-bud-test\\lib\\site-packages (from napari-buds==0.1.3) (0.4.16)\n",
      "Requirement already satisfied: scikit-learn in c:\\users\\sander\\anaconda3\\envs\\napari-bud-test\\lib\\site-packages (from napari-buds==0.1.3) (1.1.2)\n",
      "Requirement already satisfied: pandas in c:\\users\\sander\\anaconda3\\envs\\napari-bud-test\\lib\\site-packages (from napari-buds==0.1.3) (1.5.0)\n",
      "Requirement already satisfied: joblib in c:\\users\\sander\\anaconda3\\envs\\napari-bud-test\\lib\\site-packages (from napari-buds==0.1.3) (1.2.0)\n",
      "Requirement already satisfied: scipy in c:\\users\\sander\\anaconda3\\envs\\napari-bud-test\\lib\\site-packages (from napari-buds==0.1.3) (1.9.1)\n",
      "Requirement already satisfied: numpy in c:\\users\\sander\\anaconda3\\envs\\napari-bud-test\\lib\\site-packages (from napari-buds==0.1.3) (1.23.3)\n",
      "Requirement already satisfied: imageio-ffmpeg in c:\\users\\sander\\anaconda3\\envs\\napari-bud-test\\lib\\site-packages (from napari-buds==0.1.3) (0.4.7)\n",
      "Requirement already satisfied: scikit-image in c:\\users\\sander\\anaconda3\\envs\\napari-bud-test\\lib\\site-packages (from napari-buds==0.1.3) (0.19.3)\n",
      "Requirement already satisfied: matplotlib in c:\\users\\sander\\anaconda3\\envs\\napari-bud-test\\lib\\site-packages (from napari-buds==0.1.3) (3.6.0)\n",
      "Requirement already satisfied: magicgui in c:\\users\\sander\\anaconda3\\envs\\napari-bud-test\\lib\\site-packages (from napari-buds==0.1.3) (0.5.1)\n",
      "Requirement already satisfied: superqt>=0.2.5.post1 in c:\\users\\sander\\anaconda3\\envs\\napari-bud-test\\lib\\site-packages (from magic-class->napari-buds==0.1.3) (0.3.5)\n",
      "Requirement already satisfied: macro-kit>=0.3.5 in c:\\users\\sander\\anaconda3\\envs\\napari-bud-test\\lib\\site-packages (from magic-class->napari-buds==0.1.3) (0.3.8)\n",
      "Requirement already satisfied: psygnal>=0.3.0 in c:\\users\\sander\\anaconda3\\envs\\napari-bud-test\\lib\\site-packages (from magicgui->napari-buds==0.1.3) (0.4.2)\n",
      "Requirement already satisfied: typing-extensions in c:\\users\\sander\\anaconda3\\envs\\napari-bud-test\\lib\\site-packages (from magicgui->napari-buds==0.1.3) (4.3.0)\n",
      "Requirement already satisfied: docstring-parser in c:\\users\\sander\\anaconda3\\envs\\napari-bud-test\\lib\\site-packages (from magicgui->napari-buds==0.1.3) (0.15)\n",
      "Requirement already satisfied: packaging in c:\\users\\sander\\anaconda3\\envs\\napari-bud-test\\lib\\site-packages (from qtpy->napari-buds==0.1.3) (22.0)\n",
      "Requirement already satisfied: python-dateutil>=2.7 in c:\\users\\sander\\anaconda3\\envs\\napari-bud-test\\lib\\site-packages (from matplotlib->napari-buds==0.1.3) (2.8.2)\n",
      "Requirement already satisfied: fonttools>=4.22.0 in c:\\users\\sander\\anaconda3\\envs\\napari-bud-test\\lib\\site-packages (from matplotlib->napari-buds==0.1.3) (4.37.4)\n",
      "Requirement already satisfied: pyparsing>=2.2.1 in c:\\users\\sander\\anaconda3\\envs\\napari-bud-test\\lib\\site-packages (from matplotlib->napari-buds==0.1.3) (3.0.9)\n",
      "Requirement already satisfied: cycler>=0.10 in c:\\users\\sander\\anaconda3\\envs\\napari-bud-test\\lib\\site-packages (from matplotlib->napari-buds==0.1.3) (0.11.0)\n",
      "Requirement already satisfied: kiwisolver>=1.0.1 in c:\\users\\sander\\anaconda3\\envs\\napari-bud-test\\lib\\site-packages (from matplotlib->napari-buds==0.1.3) (1.4.4)\n",
      "Requirement already satisfied: contourpy>=1.0.1 in c:\\users\\sander\\anaconda3\\envs\\napari-bud-test\\lib\\site-packages (from matplotlib->napari-buds==0.1.3) (1.0.5)\n",
      "Requirement already satisfied: pillow>=6.2.0 in c:\\users\\sander\\anaconda3\\envs\\napari-bud-test\\lib\\site-packages (from matplotlib->napari-buds==0.1.3) (9.2.0)\n",
      "Requirement already satisfied: tifffile>=2020.2.16 in c:\\users\\sander\\anaconda3\\envs\\napari-bud-test\\lib\\site-packages (from napari->napari-buds==0.1.3) (2022.8.12)\n",
      "Requirement already satisfied: numpydoc>=0.9.2 in c:\\users\\sander\\anaconda3\\envs\\napari-bud-test\\lib\\site-packages (from napari->napari-buds==0.1.3) (1.4.0)\n",
      "Requirement already satisfied: appdirs>=1.4.4 in c:\\users\\sander\\anaconda3\\envs\\napari-bud-test\\lib\\site-packages (from napari->napari-buds==0.1.3) (1.4.4)\n",
      "Requirement already satisfied: pydantic>=1.9.0 in c:\\users\\sander\\anaconda3\\envs\\napari-bud-test\\lib\\site-packages (from napari->napari-buds==0.1.3) (1.10.2)\n",
      "Requirement already satisfied: dask[array]!=2.28.0,>=2.15.0 in c:\\users\\sander\\anaconda3\\envs\\napari-bud-test\\lib\\site-packages (from napari->napari-buds==0.1.3) (2022.9.2)\n",
      "Requirement already satisfied: napari-svg>=0.1.4 in c:\\users\\sander\\anaconda3\\envs\\napari-bud-test\\lib\\site-packages (from napari->napari-buds==0.1.3) (0.1.6)\n",
      "Requirement already satisfied: PyYAML>=5.1 in c:\\users\\sander\\anaconda3\\envs\\napari-bud-test\\lib\\site-packages (from napari->napari-buds==0.1.3) (6.0)\n",
      "Requirement already satisfied: psutil>=5.0 in c:\\users\\sander\\anaconda3\\envs\\napari-bud-test\\lib\\site-packages (from napari->napari-buds==0.1.3) (5.9.2)\n",
      "Requirement already satisfied: PyOpenGL>=3.1.0 in c:\\users\\sander\\anaconda3\\envs\\napari-bud-test\\lib\\site-packages (from napari->napari-buds==0.1.3) (3.1.6)\n",
      "Requirement already satisfied: pygments>=2.4.0 in c:\\users\\sander\\anaconda3\\envs\\napari-bud-test\\lib\\site-packages (from napari->napari-buds==0.1.3) (2.13.0)\n",
      "Requirement already satisfied: imageio!=2.11.0,>=2.5.0 in c:\\users\\sander\\anaconda3\\envs\\napari-bud-test\\lib\\site-packages (from napari->napari-buds==0.1.3) (2.22.0)\n",
      "Requirement already satisfied: npe2>=0.3.0 in c:\\users\\sander\\anaconda3\\envs\\napari-bud-test\\lib\\site-packages (from napari->napari-buds==0.1.3) (0.6.1)\n",
      "Requirement already satisfied: toolz>=0.10.0 in c:\\users\\sander\\anaconda3\\envs\\napari-bud-test\\lib\\site-packages (from napari->napari-buds==0.1.3) (0.12.0)\n",
      "Requirement already satisfied: napari-console>=0.0.4 in c:\\users\\sander\\anaconda3\\envs\\napari-bud-test\\lib\\site-packages (from napari->napari-buds==0.1.3) (0.0.6)\n",
      "Requirement already satisfied: tqdm>=4.56.0 in c:\\users\\sander\\anaconda3\\envs\\napari-bud-test\\lib\\site-packages (from napari->napari-buds==0.1.3) (4.64.1)\n",
      "Requirement already satisfied: wrapt>=1.11.1 in c:\\users\\sander\\anaconda3\\envs\\napari-bud-test\\lib\\site-packages (from napari->napari-buds==0.1.3) (1.14.1)\n",
      "Requirement already satisfied: napari-plugin-engine>=0.1.9 in c:\\users\\sander\\anaconda3\\envs\\napari-bud-test\\lib\\site-packages (from napari->napari-buds==0.1.3) (0.2.0)\n",
      "Requirement already satisfied: certifi>=2018.1.18 in c:\\users\\sander\\anaconda3\\envs\\napari-bud-test\\lib\\site-packages (from napari->napari-buds==0.1.3) (2022.9.24)\n",
      "Requirement already satisfied: vispy<0.11,>=0.10.0 in c:\\users\\sander\\anaconda3\\envs\\napari-bud-test\\lib\\site-packages (from napari->napari-buds==0.1.3) (0.10.0)\n",
      "Requirement already satisfied: cachey>=0.2.1 in c:\\users\\sander\\anaconda3\\envs\\napari-bud-test\\lib\\site-packages (from napari->napari-buds==0.1.3) (0.2.1)\n",
      "Requirement already satisfied: pint>=0.17 in c:\\users\\sander\\anaconda3\\envs\\napari-bud-test\\lib\\site-packages (from napari->napari-buds==0.1.3) (0.19.2)\n",
      "Requirement already satisfied: jsonschema>=3.2.0 in c:\\users\\sander\\anaconda3\\envs\\napari-bud-test\\lib\\site-packages (from napari->napari-buds==0.1.3) (4.16.0)\n",
      "Requirement already satisfied: pytz>=2020.1 in c:\\users\\sander\\anaconda3\\envs\\napari-bud-test\\lib\\site-packages (from pandas->napari-buds==0.1.3) (2022.4)\n",
      "Requirement already satisfied: networkx>=2.2 in c:\\users\\sander\\anaconda3\\envs\\napari-bud-test\\lib\\site-packages (from scikit-image->napari-buds==0.1.3) (2.8.7)\n",
      "Requirement already satisfied: PyWavelets>=1.1.1 in c:\\users\\sander\\anaconda3\\envs\\napari-bud-test\\lib\\site-packages (from scikit-image->napari-buds==0.1.3) (1.4.1)\n",
      "Requirement already satisfied: threadpoolctl>=2.0.0 in c:\\users\\sander\\anaconda3\\envs\\napari-bud-test\\lib\\site-packages (from scikit-learn->napari-buds==0.1.3) (3.1.0)\n",
      "Requirement already satisfied: heapdict in c:\\users\\sander\\anaconda3\\envs\\napari-bud-test\\lib\\site-packages (from cachey>=0.2.1->napari->napari-buds==0.1.3) (1.0.1)\n",
      "Requirement already satisfied: cloudpickle>=1.1.1 in c:\\users\\sander\\anaconda3\\envs\\napari-bud-test\\lib\\site-packages (from dask[array]!=2.28.0,>=2.15.0->napari->napari-buds==0.1.3) (2.2.0)\n",
      "Requirement already satisfied: fsspec>=0.6.0 in c:\\users\\sander\\anaconda3\\envs\\napari-bud-test\\lib\\site-packages (from dask[array]!=2.28.0,>=2.15.0->napari->napari-buds==0.1.3) (2022.8.2)\n",
      "Requirement already satisfied: partd>=0.3.10 in c:\\users\\sander\\anaconda3\\envs\\napari-bud-test\\lib\\site-packages (from dask[array]!=2.28.0,>=2.15.0->napari->napari-buds==0.1.3) (1.3.0)\n",
      "Requirement already satisfied: pyrsistent!=0.17.0,!=0.17.1,!=0.17.2,>=0.14.0 in c:\\users\\sander\\anaconda3\\envs\\napari-bud-test\\lib\\site-packages (from jsonschema>=3.2.0->napari->napari-buds==0.1.3) (0.18.1)\n",
      "Requirement already satisfied: attrs>=17.4.0 in c:\\users\\sander\\anaconda3\\envs\\napari-bud-test\\lib\\site-packages (from jsonschema>=3.2.0->napari->napari-buds==0.1.3) (22.1.0)\n",
      "Requirement already satisfied: IPython>=7.7.0 in c:\\users\\sander\\anaconda3\\envs\\napari-bud-test\\lib\\site-packages (from napari-console>=0.0.4->napari->napari-buds==0.1.3) (8.5.0)\n",
      "Requirement already satisfied: qtconsole!=4.7.6,>=4.5.1 in c:\\users\\sander\\anaconda3\\envs\\napari-bud-test\\lib\\site-packages (from napari-console>=0.0.4->napari->napari-buds==0.1.3) (5.3.2)\n",
      "Requirement already satisfied: ipykernel>=5.2.0 in c:\\users\\sander\\anaconda3\\envs\\napari-bud-test\\lib\\site-packages (from napari-console>=0.0.4->napari->napari-buds==0.1.3) (6.16.0)\n",
      "Requirement already satisfied: pytomlpp in c:\\users\\sander\\anaconda3\\envs\\napari-bud-test\\lib\\site-packages (from npe2>=0.3.0->napari->napari-buds==0.1.3) (1.0.11)\n",
      "Requirement already satisfied: build in c:\\users\\sander\\anaconda3\\envs\\napari-bud-test\\lib\\site-packages (from npe2>=0.3.0->napari->napari-buds==0.1.3) (0.8.0)\n",
      "Requirement already satisfied: rich in c:\\users\\sander\\anaconda3\\envs\\napari-bud-test\\lib\\site-packages (from npe2>=0.3.0->napari->napari-buds==0.1.3) (12.5.1)\n",
      "Requirement already satisfied: typer in c:\\users\\sander\\anaconda3\\envs\\napari-bud-test\\lib\\site-packages (from npe2>=0.3.0->napari->napari-buds==0.1.3) (0.6.1)\n",
      "Requirement already satisfied: Jinja2>=2.10 in c:\\users\\sander\\anaconda3\\envs\\napari-bud-test\\lib\\site-packages (from numpydoc>=0.9.2->napari->napari-buds==0.1.3) (3.1.2)\n",
      "Requirement already satisfied: sphinx>=3.0 in c:\\users\\sander\\anaconda3\\envs\\napari-bud-test\\lib\\site-packages (from numpydoc>=0.9.2->napari->napari-buds==0.1.3) (5.2.3)\n",
      "Requirement already satisfied: six>=1.5 in c:\\users\\sander\\anaconda3\\envs\\napari-bud-test\\lib\\site-packages (from python-dateutil>=2.7->matplotlib->napari-buds==0.1.3) (1.16.0)\n",
      "Requirement already satisfied: colorama in c:\\users\\sander\\anaconda3\\envs\\napari-bud-test\\lib\\site-packages (from tqdm>=4.56.0->napari->napari-buds==0.1.3) (0.4.6)\n",
      "Requirement already satisfied: hsluv in c:\\users\\sander\\anaconda3\\envs\\napari-bud-test\\lib\\site-packages (from vispy<0.11,>=0.10.0->napari->napari-buds==0.1.3) (5.0.3)\n",
      "Requirement already satisfied: freetype-py in c:\\users\\sander\\anaconda3\\envs\\napari-bud-test\\lib\\site-packages (from vispy<0.11,>=0.10.0->napari->napari-buds==0.1.3) (2.3.0)\n",
      "Requirement already satisfied: pyzmq>=17 in c:\\users\\sander\\anaconda3\\envs\\napari-bud-test\\lib\\site-packages (from ipykernel>=5.2.0->napari-console>=0.0.4->napari->napari-buds==0.1.3) (24.0.1)\n",
      "Requirement already satisfied: jupyter-client>=6.1.12 in c:\\users\\sander\\anaconda3\\envs\\napari-bud-test\\lib\\site-packages (from ipykernel>=5.2.0->napari-console>=0.0.4->napari->napari-buds==0.1.3) (7.3.5)\n",
      "Requirement already satisfied: traitlets>=5.1.0 in c:\\users\\sander\\anaconda3\\envs\\napari-bud-test\\lib\\site-packages (from ipykernel>=5.2.0->napari-console>=0.0.4->napari->napari-buds==0.1.3) (5.4.0)\n",
      "Requirement already satisfied: tornado>=6.1 in c:\\users\\sander\\anaconda3\\envs\\napari-bud-test\\lib\\site-packages (from ipykernel>=5.2.0->napari-console>=0.0.4->napari->napari-buds==0.1.3) (6.2)\n",
      "Requirement already satisfied: debugpy>=1.0 in c:\\users\\sander\\anaconda3\\envs\\napari-bud-test\\lib\\site-packages (from ipykernel>=5.2.0->napari-console>=0.0.4->napari->napari-buds==0.1.3) (1.6.3)\n",
      "Requirement already satisfied: matplotlib-inline>=0.1 in c:\\users\\sander\\anaconda3\\envs\\napari-bud-test\\lib\\site-packages (from ipykernel>=5.2.0->napari-console>=0.0.4->napari->napari-buds==0.1.3) (0.1.6)\n",
      "Requirement already satisfied: nest-asyncio in c:\\users\\sander\\anaconda3\\envs\\napari-bud-test\\lib\\site-packages (from ipykernel>=5.2.0->napari-console>=0.0.4->napari->napari-buds==0.1.3) (1.5.6)\n",
      "Requirement already satisfied: backcall in c:\\users\\sander\\anaconda3\\envs\\napari-bud-test\\lib\\site-packages (from IPython>=7.7.0->napari-console>=0.0.4->napari->napari-buds==0.1.3) (0.2.0)\n",
      "Requirement already satisfied: jedi>=0.16 in c:\\users\\sander\\anaconda3\\envs\\napari-bud-test\\lib\\site-packages (from IPython>=7.7.0->napari-console>=0.0.4->napari->napari-buds==0.1.3) (0.18.1)\n",
      "Requirement already satisfied: stack-data in c:\\users\\sander\\anaconda3\\envs\\napari-bud-test\\lib\\site-packages (from IPython>=7.7.0->napari-console>=0.0.4->napari->napari-buds==0.1.3) (0.5.1)\n",
      "Requirement already satisfied: prompt-toolkit<3.1.0,>3.0.1 in c:\\users\\sander\\anaconda3\\envs\\napari-bud-test\\lib\\site-packages (from IPython>=7.7.0->napari-console>=0.0.4->napari->napari-buds==0.1.3) (3.0.31)\n",
      "Requirement already satisfied: decorator in c:\\users\\sander\\anaconda3\\envs\\napari-bud-test\\lib\\site-packages (from IPython>=7.7.0->napari-console>=0.0.4->napari->napari-buds==0.1.3) (5.1.1)\n",
      "Requirement already satisfied: pickleshare in c:\\users\\sander\\anaconda3\\envs\\napari-bud-test\\lib\\site-packages (from IPython>=7.7.0->napari-console>=0.0.4->napari->napari-buds==0.1.3) (0.7.5)\n",
      "Requirement already satisfied: MarkupSafe>=2.0 in c:\\users\\sander\\anaconda3\\envs\\napari-bud-test\\lib\\site-packages (from Jinja2>=2.10->numpydoc>=0.9.2->napari->napari-buds==0.1.3) (2.1.1)\n",
      "Requirement already satisfied: locket in c:\\users\\sander\\anaconda3\\envs\\napari-bud-test\\lib\\site-packages (from partd>=0.3.10->dask[array]!=2.28.0,>=2.15.0->napari->napari-buds==0.1.3) (1.0.0)\n",
      "Requirement already satisfied: ipython-genutils in c:\\users\\sander\\anaconda3\\envs\\napari-bud-test\\lib\\site-packages (from qtconsole!=4.7.6,>=4.5.1->napari-console>=0.0.4->napari->napari-buds==0.1.3) (0.2.0)\n",
      "Requirement already satisfied: jupyter-core in c:\\users\\sander\\anaconda3\\envs\\napari-bud-test\\lib\\site-packages (from qtconsole!=4.7.6,>=4.5.1->napari-console>=0.0.4->napari->napari-buds==0.1.3) (4.11.1)\n",
      "Requirement already satisfied: docutils<0.20,>=0.14 in c:\\users\\sander\\anaconda3\\envs\\napari-bud-test\\lib\\site-packages (from sphinx>=3.0->numpydoc>=0.9.2->napari->napari-buds==0.1.3) (0.19)\n",
      "Requirement already satisfied: snowballstemmer>=2.0 in c:\\users\\sander\\anaconda3\\envs\\napari-bud-test\\lib\\site-packages (from sphinx>=3.0->numpydoc>=0.9.2->napari->napari-buds==0.1.3) (2.2.0)\n",
      "Requirement already satisfied: imagesize>=1.3 in c:\\users\\sander\\anaconda3\\envs\\napari-bud-test\\lib\\site-packages (from sphinx>=3.0->numpydoc>=0.9.2->napari->napari-buds==0.1.3) (1.4.1)\n",
      "Requirement already satisfied: sphinxcontrib-devhelp in c:\\users\\sander\\anaconda3\\envs\\napari-bud-test\\lib\\site-packages (from sphinx>=3.0->numpydoc>=0.9.2->napari->napari-buds==0.1.3) (1.0.2)\n",
      "Requirement already satisfied: sphinxcontrib-jsmath in c:\\users\\sander\\anaconda3\\envs\\napari-bud-test\\lib\\site-packages (from sphinx>=3.0->numpydoc>=0.9.2->napari->napari-buds==0.1.3) (1.0.1)\n",
      "Requirement already satisfied: sphinxcontrib-qthelp in c:\\users\\sander\\anaconda3\\envs\\napari-bud-test\\lib\\site-packages (from sphinx>=3.0->numpydoc>=0.9.2->napari->napari-buds==0.1.3) (1.0.3)\n",
      "Requirement already satisfied: sphinxcontrib-applehelp in c:\\users\\sander\\anaconda3\\envs\\napari-bud-test\\lib\\site-packages (from sphinx>=3.0->numpydoc>=0.9.2->napari->napari-buds==0.1.3) (1.0.2)\n",
      "Requirement already satisfied: babel>=2.9 in c:\\users\\sander\\anaconda3\\envs\\napari-bud-test\\lib\\site-packages (from sphinx>=3.0->numpydoc>=0.9.2->napari->napari-buds==0.1.3) (2.10.3)\n",
      "Requirement already satisfied: alabaster<0.8,>=0.7 in c:\\users\\sander\\anaconda3\\envs\\napari-bud-test\\lib\\site-packages (from sphinx>=3.0->numpydoc>=0.9.2->napari->napari-buds==0.1.3) (0.7.12)\n",
      "Requirement already satisfied: sphinxcontrib-serializinghtml>=1.1.5 in c:\\users\\sander\\anaconda3\\envs\\napari-bud-test\\lib\\site-packages (from sphinx>=3.0->numpydoc>=0.9.2->napari->napari-buds==0.1.3) (1.1.5)\n",
      "Requirement already satisfied: importlib-metadata>=4.8 in c:\\users\\sander\\anaconda3\\envs\\napari-bud-test\\lib\\site-packages (from sphinx>=3.0->numpydoc>=0.9.2->napari->napari-buds==0.1.3) (5.0.0)\n",
      "Requirement already satisfied: requests>=2.5.0 in c:\\users\\sander\\anaconda3\\envs\\napari-bud-test\\lib\\site-packages (from sphinx>=3.0->numpydoc>=0.9.2->napari->napari-buds==0.1.3) (2.28.1)\n",
      "Requirement already satisfied: sphinxcontrib-htmlhelp>=2.0.0 in c:\\users\\sander\\anaconda3\\envs\\napari-bud-test\\lib\\site-packages (from sphinx>=3.0->numpydoc>=0.9.2->napari->napari-buds==0.1.3) (2.0.0)\n",
      "Requirement already satisfied: pep517>=0.9.1 in c:\\users\\sander\\anaconda3\\envs\\napari-bud-test\\lib\\site-packages (from build->npe2>=0.3.0->napari->napari-buds==0.1.3) (0.13.0)\n",
      "Requirement already satisfied: tomli>=1.0.0 in c:\\users\\sander\\anaconda3\\envs\\napari-bud-test\\lib\\site-packages (from build->npe2>=0.3.0->napari->napari-buds==0.1.3) (2.0.1)\n",
      "Requirement already satisfied: commonmark<0.10.0,>=0.9.0 in c:\\users\\sander\\anaconda3\\envs\\napari-bud-test\\lib\\site-packages (from rich->npe2>=0.3.0->napari->napari-buds==0.1.3) (0.9.1)\n",
      "Requirement already satisfied: click<9.0.0,>=7.1.1 in c:\\users\\sander\\anaconda3\\envs\\napari-bud-test\\lib\\site-packages (from typer->npe2>=0.3.0->napari->napari-buds==0.1.3) (8.1.3)\n",
      "Requirement already satisfied: zipp>=0.5 in c:\\users\\sander\\anaconda3\\envs\\napari-bud-test\\lib\\site-packages (from importlib-metadata>=4.8->sphinx>=3.0->numpydoc>=0.9.2->napari->napari-buds==0.1.3) (3.8.1)\n",
      "Requirement already satisfied: parso<0.9.0,>=0.8.0 in c:\\users\\sander\\anaconda3\\envs\\napari-bud-test\\lib\\site-packages (from jedi>=0.16->IPython>=7.7.0->napari-console>=0.0.4->napari->napari-buds==0.1.3) (0.8.3)\n",
      "Requirement already satisfied: entrypoints in c:\\users\\sander\\anaconda3\\envs\\napari-bud-test\\lib\\site-packages (from jupyter-client>=6.1.12->ipykernel>=5.2.0->napari-console>=0.0.4->napari->napari-buds==0.1.3) (0.4)\n",
      "Requirement already satisfied: pywin32>=1.0 in c:\\users\\sander\\anaconda3\\envs\\napari-bud-test\\lib\\site-packages (from jupyter-core->qtconsole!=4.7.6,>=4.5.1->napari-console>=0.0.4->napari->napari-buds==0.1.3) (304)\n",
      "Requirement already satisfied: wcwidth in c:\\users\\sander\\anaconda3\\envs\\napari-bud-test\\lib\\site-packages (from prompt-toolkit<3.1.0,>3.0.1->IPython>=7.7.0->napari-console>=0.0.4->napari->napari-buds==0.1.3) (0.2.5)\n",
      "Requirement already satisfied: charset-normalizer<3,>=2 in c:\\users\\sander\\anaconda3\\envs\\napari-bud-test\\lib\\site-packages (from requests>=2.5.0->sphinx>=3.0->numpydoc>=0.9.2->napari->napari-buds==0.1.3) (2.1.1)\n",
      "Requirement already satisfied: urllib3<1.27,>=1.21.1 in c:\\users\\sander\\anaconda3\\envs\\napari-bud-test\\lib\\site-packages (from requests>=2.5.0->sphinx>=3.0->numpydoc>=0.9.2->napari->napari-buds==0.1.3) (1.26.12)\n",
      "Requirement already satisfied: idna<4,>=2.5 in c:\\users\\sander\\anaconda3\\envs\\napari-bud-test\\lib\\site-packages (from requests>=2.5.0->sphinx>=3.0->numpydoc>=0.9.2->napari->napari-buds==0.1.3) (3.4)\n",
      "Requirement already satisfied: executing in c:\\users\\sander\\anaconda3\\envs\\napari-bud-test\\lib\\site-packages (from stack-data->IPython>=7.7.0->napari-console>=0.0.4->napari->napari-buds==0.1.3) (1.1.0)\n",
      "Requirement already satisfied: asttokens in c:\\users\\sander\\anaconda3\\envs\\napari-bud-test\\lib\\site-packages (from stack-data->IPython>=7.7.0->napari-console>=0.0.4->napari->napari-buds==0.1.3) (2.0.8)\n",
      "Requirement already satisfied: pure-eval in c:\\users\\sander\\anaconda3\\envs\\napari-bud-test\\lib\\site-packages (from stack-data->IPython>=7.7.0->napari-console>=0.0.4->napari->napari-buds==0.1.3) (0.2.2)\n",
      "Building wheels for collected packages: napari-buds\n",
      "  Building editable for napari-buds (pyproject.toml): started\n",
      "  Building editable for napari-buds (pyproject.toml): finished with status 'done'\n",
      "  Created wheel for napari-buds: filename=napari_buds-0.1.3-0.editable-py3-none-any.whl size=6408 sha256=56ef835582bf6794bdfa0ee3a17166724b674cfe57824e8dc57cfc4982cba4c4\n",
      "  Stored in directory: C:\\Users\\Sander\\AppData\\Local\\Temp\\pip-ephem-wheel-cache-py4d35ug\\wheels\\8e\\6a\\71\\c8774c0b13ec20883855197e90e226583c244b29f7932a4244\n",
      "Successfully built napari-buds\n",
      "Installing collected packages: napari-buds\n",
      "  Attempting uninstall: napari-buds\n",
      "    Found existing installation: napari-buds 0.1.3\n",
      "    Uninstalling napari-buds-0.1.3:\n",
      "      Successfully uninstalled napari-buds-0.1.3\n",
      "Successfully installed napari-buds-0.1.3\n"
     ]
    }
   ],
   "source": [
    "!pip install -e ."
   ]
  },
  {
   "cell_type": "code",
   "execution_count": 30,
   "id": "8bd0fd9d",
   "metadata": {},
   "outputs": [],
   "source": [
    "#file navigation tools\n",
    "from glob import glob\n",
    "import os\n",
    "#image analysis library\n",
    "from skimage import io\n",
    "#jupyter notebook img display\n",
    "import stackview\n",
    "#The fundamental package for scientific computing with Python\n",
    "import numpy as np\n",
    "#python image viewer \n",
    "import napari\n",
    "#excel for python\n",
    "import pandas as pd"
   ]
  },
  {
   "cell_type": "markdown",
   "id": "d9c4e97b",
   "metadata": {},
   "source": [
    "Download example data for the segmentation tutorial from https://zenodo.org/record/7004556. You can also download all the data by executing the code block below."
   ]
  },
  {
   "cell_type": "code",
   "execution_count": 3,
   "id": "02595070",
   "metadata": {},
   "outputs": [],
   "source": [
    "#%cd D:\\path\\where\\you\\want\\to\\save\\data\n",
    "#!zenodo_get -d 10.5281/zenodo.7004556 "
   ]
  },
  {
   "cell_type": "code",
   "execution_count": 4,
   "id": "530fa04d",
   "metadata": {},
   "outputs": [
    {
     "data": {
      "text/plain": [
       "['D:\\\\Dropbox\\\\Sander BackUp Alienware\\\\Documents\\\\smFISH_segmentation_Internship_Students\\\\data\\\\EXPERIMENT_01_CY3.5, CY3, DAPI, CY5.tif',\n",
       " 'D:\\\\Dropbox\\\\Sander BackUp Alienware\\\\Documents\\\\smFISH_segmentation_Internship_Students\\\\data\\\\EXPERIMENT_01_DIC.tif',\n",
       " 'D:\\\\Dropbox\\\\Sander BackUp Alienware\\\\Documents\\\\smFISH_segmentation_Internship_Students\\\\data\\\\EXPERIMENT_01_MASK_bud.tif',\n",
       " 'D:\\\\Dropbox\\\\Sander BackUp Alienware\\\\Documents\\\\smFISH_segmentation_Internship_Students\\\\data\\\\EXPERIMENT_01_MASK_cell.tif',\n",
       " 'D:\\\\Dropbox\\\\Sander BackUp Alienware\\\\Documents\\\\smFISH_segmentation_Internship_Students\\\\data\\\\EXPERIMENT_01_MASK_nuc.tif']"
      ]
     },
     "execution_count": 4,
     "metadata": {},
     "output_type": "execute_result"
    }
   ],
   "source": [
    "#change path to location of saved files\n",
    "path='D:\\Dropbox\\Sander BackUp Alienware\\Documents\\smFISH_segmentation_Internship_Students\\data\\Experiment_01*'\n",
    "files=glob(path)\n",
    "files"
   ]
  },
  {
   "cell_type": "markdown",
   "id": "c975d405",
   "metadata": {},
   "source": [
    "Load the first image into memory."
   ]
  },
  {
   "cell_type": "code",
   "execution_count": 5,
   "id": "fa809212",
   "metadata": {},
   "outputs": [],
   "source": [
    "img= io.imread(files[0])"
   ]
  },
  {
   "cell_type": "markdown",
   "id": "31f2f6e8",
   "metadata": {},
   "source": [
    "Inspect the dimensions of the loaded image."
   ]
  },
  {
   "cell_type": "code",
   "execution_count": 6,
   "id": "44183722",
   "metadata": {},
   "outputs": [
    {
     "data": {
      "text/plain": [
       "(3, 41, 2304, 2304)"
      ]
     },
     "execution_count": 6,
     "metadata": {},
     "output_type": "execute_result"
    }
   ],
   "source": [
    "img.shape"
   ]
  },
  {
   "cell_type": "markdown",
   "id": "19be6fcb",
   "metadata": {},
   "source": [
    "Inspect the different fluorescent channels and Ztiles of the loaded img"
   ]
  },
  {
   "cell_type": "code",
   "execution_count": 7,
   "id": "19b5726c",
   "metadata": {},
   "outputs": [
    {
     "data": {
      "application/vnd.jupyter.widget-view+json": {
       "model_id": "da9d13ebde2c48478004923ef37f3cdc",
       "version_major": 2,
       "version_minor": 0
      },
      "text/plain": [
       "VBox(children=(HBox(children=(VBox(children=(ImageWidget(height=2304, width=2304),)),)), IntSlider(value=20, c…"
      ]
     },
     "execution_count": 7,
     "metadata": {},
     "output_type": "execute_result"
    }
   ],
   "source": [
    "c=0 # change this between 0 and 2 to switch channel \n",
    "stackview.slice(img[c,...])"
   ]
  },
  {
   "cell_type": "markdown",
   "id": "c73c03ef",
   "metadata": {},
   "source": [
    "Describe which layers of the image are in focus."
   ]
  },
  {
   "cell_type": "code",
   "execution_count": 8,
   "id": "aece37a4",
   "metadata": {},
   "outputs": [],
   "source": [
    "focus=[23,40]"
   ]
  },
  {
   "cell_type": "markdown",
   "id": "f4f32659",
   "metadata": {},
   "source": [
    "Perform a max projection on the different channels of the image."
   ]
  },
  {
   "cell_type": "code",
   "execution_count": 9,
   "id": "a9c32c32",
   "metadata": {},
   "outputs": [
    {
     "data": {
      "text/plain": [
       "(3, 2304, 2304)"
      ]
     },
     "execution_count": 9,
     "metadata": {},
     "output_type": "execute_result"
    }
   ],
   "source": [
    "zproject=np.amax(img[:,focus[0]:focus[1],...],axis=1,keepdims=False)\n",
    "zproject.shape"
   ]
  },
  {
   "cell_type": "markdown",
   "id": "1d659fc9",
   "metadata": {},
   "source": [
    "Inspect the Zprojected image. Which channel number belongs to which fluorescent dye (Dapi,CY3, CY5)?"
   ]
  },
  {
   "cell_type": "code",
   "execution_count": 10,
   "id": "0010dfe2",
   "metadata": {},
   "outputs": [
    {
     "data": {
      "application/vnd.jupyter.widget-view+json": {
       "model_id": "c1b80e2d970745aabd986d9f0026ffa2",
       "version_major": 2,
       "version_minor": 0
      },
      "text/plain": [
       "VBox(children=(HBox(children=(VBox(children=(ImageWidget(height=2304, width=2304),)),)), IntSlider(value=1, co…"
      ]
     },
     "execution_count": 10,
     "metadata": {},
     "output_type": "execute_result"
    }
   ],
   "source": [
    "stackview.slice(zproject)"
   ]
  },
  {
   "cell_type": "markdown",
   "id": "94fadaef",
   "metadata": {},
   "source": [
    "Adjust the channel order accordingly. Additionally choose the color these channels should be displayed in."
   ]
  },
  {
   "cell_type": "code",
   "execution_count": 11,
   "id": "acf9fe09",
   "metadata": {},
   "outputs": [],
   "source": [
    "channels=['CY3','CY5','DAPI']\n",
    "colors=['green','magenta','blue']"
   ]
  },
  {
   "cell_type": "markdown",
   "id": "f8747605",
   "metadata": {},
   "source": [
    "Load the DIC img."
   ]
  },
  {
   "cell_type": "code",
   "execution_count": 12,
   "id": "04720dea",
   "metadata": {},
   "outputs": [
    {
     "data": {
      "text/plain": [
       "(2304, 2304)"
      ]
     },
     "execution_count": 12,
     "metadata": {},
     "output_type": "execute_result"
    }
   ],
   "source": [
    "DIC= io.imread(files[1])\n",
    "DIC.shape"
   ]
  },
  {
   "cell_type": "code",
   "execution_count": 13,
   "id": "d8081566",
   "metadata": {
    "scrolled": false
   },
   "outputs": [
    {
     "data": {
      "application/vnd.jupyter.widget-view+json": {
       "model_id": "d1dc93b9a0c64da7b6080c0a77ac63c7",
       "version_major": 2,
       "version_minor": 0
      },
      "text/plain": [
       "VBox(children=(HBox(children=(VBox(children=(ImageWidget(height=2304, width=2304),)),)), IntSlider(value=1152,…"
      ]
     },
     "execution_count": 13,
     "metadata": {},
     "output_type": "execute_result"
    }
   ],
   "source": [
    "stackview.slice(DIC)"
   ]
  },
  {
   "cell_type": "code",
   "execution_count": 14,
   "id": "37253653",
   "metadata": {
    "scrolled": true
   },
   "outputs": [
    {
     "data": {
      "text/plain": [
       "<Labels layer 'seeds' at 0x1fc48cfa340>"
      ]
     },
     "execution_count": 14,
     "metadata": {},
     "output_type": "execute_result"
    }
   ],
   "source": [
    "viewer= napari.Viewer()\n",
    "\n",
    "viewer.add_image(io.imread('shifted_DIC.tiff'), name='DIC', opacity=0.50)\n",
    "for i in range(zproject.shape[0]):\n",
    "    viewer.add_image(zproject[i,...],name=channels[i],colormap=colors[i],opacity=0.30)\n",
    "    \n",
    "viewer.add_labels(io.imread('result.tiff'),name='result')\n",
    "#viewer.add_labels(io.imread('buds.tiff'),name='buds')\n",
    "viewer.add_labels(io.imread('labels.tiff'),name='Labels')\n",
    "viewer.add_labels(io.imread('seeds.tiff'),name='seeds')"
   ]
  },
  {
   "cell_type": "code",
   "execution_count": 29,
   "id": "ac83dd70",
   "metadata": {},
   "outputs": [
    {
     "name": "stderr",
     "output_type": "stream",
     "text": [
      "C:\\Users\\Sander\\AppData\\Local\\Temp\\ipykernel_54412\\880566900.py:17: UserWarning: D:\\test\\nuclei\\fov_000.tif is a low contrast image\n",
      "  io.imsave(os.path.join(path,'nuclei',filename),viewer.layers['seeds'].data)\n",
      "C:\\Users\\Sander\\AppData\\Local\\Temp\\ipykernel_54412\\880566900.py:18: UserWarning: D:\\test\\cells\\fov_000.tif is a low contrast image\n",
      "  io.imsave(os.path.join(path,'cells',filename),viewer.layers['cell mask'].data)\n",
      "C:\\Users\\Sander\\AppData\\Local\\Temp\\ipykernel_54412\\880566900.py:19: UserWarning: D:\\test\\buds\\fov_000.tif is a low contrast image\n",
      "  io.imsave(os.path.join(path,'buds',filename),viewer.layers['buds'].data)\n"
     ]
    }
   ],
   "source": [
    "path=r\"D:\\test\"\n",
    "filename=\"fov_000.tif\"\n",
    "\n",
    "# make nuclei directory if does not exist\n",
    "if not os.path.isdir(os.path.join(path,'nuclei')):\n",
    "    os.makedirs(os.path.join(path,'nuclei'))\n",
    "\n",
    "# make cell mask if doesn't exist\n",
    "if not os.path.isdir(os.path.join(path,'cells')):\n",
    "    os.makedirs(os.path.join(path,'cells'))\n",
    "\n",
    "# make buds mask directory\n",
    "if not os.path.isdir(os.path.join(path,'buds')):\n",
    "    os.makedirs(os.path.join(path,'buds'))\n",
    "\n",
    "io.imsave(os.path.join(path,'nuclei',filename),viewer.layers['seeds'].data)\n",
    "io.imsave(os.path.join(path,'cells',filename),viewer.layers['cell mask'].data)\n",
    "io.imsave(os.path.join(path,'buds',filename),viewer.layers['buds'].data)"
   ]
  }
 ],
 "metadata": {
  "kernelspec": {
   "display_name": "Python 3 (ipykernel)",
   "language": "python",
   "name": "python3"
  },
  "language_info": {
   "codemirror_mode": {
    "name": "ipython",
    "version": 3
   },
   "file_extension": ".py",
   "mimetype": "text/x-python",
   "name": "python",
   "nbconvert_exporter": "python",
   "pygments_lexer": "ipython3",
   "version": "3.9.13"
  }
 },
 "nbformat": 4,
 "nbformat_minor": 5
}
