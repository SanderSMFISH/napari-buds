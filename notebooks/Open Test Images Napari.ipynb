{
 "cells": [
  {
   "cell_type": "markdown",
   "id": "65e1725c",
   "metadata": {},
   "source": [
    "## Tutorial notebook for opening example image data (from zenodo) in Napari viewer"
   ]
  },
  {
   "cell_type": "markdown",
   "id": "b56f6e9a",
   "metadata": {},
   "source": [
    "Import libraries:"
   ]
  },
  {
   "cell_type": "code",
   "execution_count": 1,
   "id": "caab7d21",
   "metadata": {},
   "outputs": [],
   "source": [
    "from glob import glob \n",
    "from skimage import io\n",
    "import napari\n",
    "import numpy as np"
   ]
  },
  {
   "cell_type": "markdown",
   "id": "0c51f0c6",
   "metadata": {},
   "source": [
    "Path to images and image descriptions."
   ]
  },
  {
   "cell_type": "code",
   "execution_count": 2,
   "id": "acf282f6",
   "metadata": {},
   "outputs": [],
   "source": [
    "path_imgs=r'D:\\napari_buds/CONTROL_01_CY3.5, CY3, DAPI, CY5.tif'\n",
    "#select path to DICs\n",
    "path_DICs=r'D:\\napari_buds/CONTROL_01_DIC.tif'\n",
    "#shape of your multichannel fluorescent zstack image (c,z,x,y)\n",
    "shape=(4,41,2304,2304)\n",
    "#which layers are in focus?\n",
    "focus=[23,35]\n",
    "#channel order\n",
    "channels=['CY3_5','CY3','DAPI','CY5']\n",
    "#colors to display different channels in Napari\n",
    "colors=['green','red','blue','bop purple']"
   ]
  },
  {
   "cell_type": "markdown",
   "id": "bd847781",
   "metadata": {},
   "source": [
    "Read images:"
   ]
  },
  {
   "cell_type": "code",
   "execution_count": 3,
   "id": "a94515c2",
   "metadata": {},
   "outputs": [
    {
     "name": "stdout",
     "output_type": "stream",
     "text": [
      "(164, 2304, 2304)\n",
      "(4, 41, 2304, 2304) (2304, 2304)\n"
     ]
    }
   ],
   "source": [
    "#read files\n",
    "filenames=glob(path_imgs)\n",
    "img=io.imread(filenames[0], plugin='pil')\n",
    "print(img.shape)\n",
    "img=np.reshape(img,shape)\n",
    "DIC_filenames=glob(path_DICs)\n",
    "DIC=io.imread(DIC_filenames[0])\n",
    "print(img.shape,DIC.shape)"
   ]
  },
  {
   "cell_type": "markdown",
   "id": "23faf1e0",
   "metadata": {},
   "source": [
    "Perform zprojection on the fluorescent multichannel imagestack."
   ]
  },
  {
   "cell_type": "code",
   "execution_count": 4,
   "id": "3099f0b2",
   "metadata": {},
   "outputs": [
    {
     "data": {
      "text/plain": [
       "(4, 2304, 2304)"
      ]
     },
     "execution_count": 4,
     "metadata": {},
     "output_type": "execute_result"
    }
   ],
   "source": [
    "#zproject\n",
    "zproject=np.amax(img[:,focus[0]:focus[1],...],axis=1,keepdims=False)\n",
    "zproject.shape"
   ]
  },
  {
   "cell_type": "markdown",
   "id": "9fb50eeb",
   "metadata": {},
   "source": [
    "Instantiate napari viewer and add the example images."
   ]
  },
  {
   "cell_type": "code",
   "execution_count": 5,
   "id": "08d7d41d",
   "metadata": {},
   "outputs": [
    {
     "name": "stderr",
     "output_type": "stream",
     "text": [
      "WARNING: QWindowsWindow::setGeometry: Unable to set geometry 1902x1426+2560+34 (frame: 1924x1482+2549-11) on QWidgetWindow/\"_QtMainWindowClassWindow\" on \"\\\\.\\DISPLAY12\". Resulting geometry: 1902x1410+2560+34 (frame: 1924x1466+2549-11) margins: 11, 45, 11, 11 minimum size: 612x551 MINMAXINFO maxSize=0,0 maxpos=0,0 mintrack=1246,1158 maxtrack=0,0)\n"
     ]
    },
    {
     "data": {
      "text/plain": [
       "<Labels layer 'seeds' at 0x2a5514979a0>"
      ]
     },
     "execution_count": 5,
     "metadata": {},
     "output_type": "execute_result"
    },
    {
     "name": "stdout",
     "output_type": "stream",
     "text": [
      "create a label layer first!\n",
      "meep\n"
     ]
    }
   ],
   "source": [
    "viewer= napari.Viewer()\n",
    "viewer.theme = \"dark\"\n",
    "viewer.add_image(DIC, name='DIC', opacity=0.50)\n",
    "for i in range(zproject.shape[0]):\n",
    "    viewer.add_image(zproject[i,...],name=channels[i],colormap=colors[i],opacity=0.30)\n",
    "    \n",
    "budmask = io.imread(r\"D:\\napari_buds/CONTROL_01_MASK_bud.tif\")\n",
    "cellmask= io.imread(r\"D:\\napari_buds/CONTROL_01_MASK_cell.tif\")\n",
    "nucleimask = io.imread(r\"D:\\napari_buds/CONTROL_01_MASK_nuc.tif\")\n",
    "\n",
    "viewer.add_labels(budmask,name='buds')\n",
    "viewer.add_labels(cellmask, name='cell mask')\n",
    "viewer.add_labels(nucleimask, name='seeds')"
   ]
  },
  {
   "cell_type": "markdown",
   "id": "49a03b14",
   "metadata": {},
   "source": [
    "save mother and bud masks:"
   ]
  },
  {
   "cell_type": "code",
   "execution_count": null,
   "id": "5886b081",
   "metadata": {},
   "outputs": [],
   "source": [
    "io.imsave('/mothers/img_01.tif',viewer.layers['cell mask'].data)\n",
    "io.imsave('/buds/img_01.tif',viewer.layers['buds'].data)"
   ]
  }
 ],
 "metadata": {
  "kernelspec": {
   "display_name": "Python 3 (ipykernel)",
   "language": "python",
   "name": "python3"
  },
  "language_info": {
   "codemirror_mode": {
    "name": "ipython",
    "version": 3
   },
   "file_extension": ".py",
   "mimetype": "text/x-python",
   "name": "python",
   "nbconvert_exporter": "python",
   "pygments_lexer": "ipython3",
   "version": "3.9.13"
  }
 },
 "nbformat": 4,
 "nbformat_minor": 5
}
