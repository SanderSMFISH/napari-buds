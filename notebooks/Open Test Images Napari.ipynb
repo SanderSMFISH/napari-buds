{
 "cells": [
  {
   "cell_type": "markdown",
   "id": "65e1725c",
   "metadata": {},
   "source": [
    "## Tutorial notebook for opening example image data (from zenodo) in Napari viewer"
   ]
  },
  {
   "cell_type": "markdown",
   "id": "b56f6e9a",
   "metadata": {},
   "source": [
    "Import libraries:"
   ]
  },
  {
   "cell_type": "code",
   "execution_count": 4,
   "id": "caab7d21",
   "metadata": {},
   "outputs": [],
   "source": [
    "from glob import glob \n",
    "from skimage import io\n",
    "import napari\n",
    "import numpy as np"
   ]
  },
  {
   "cell_type": "markdown",
   "id": "0c51f0c6",
   "metadata": {},
   "source": [
    "Path to images and image descriptions."
   ]
  },
  {
   "cell_type": "code",
   "execution_count": 3,
   "id": "acf282f6",
   "metadata": {},
   "outputs": [],
   "source": [
    "path_imgs=r'.\\data\\YET862_ASH1Q670_CLB2Q670_DOA1C610_Ms2v6Q57_00_CY3.5 NAR, CY3, DAPI.tif'\n",
    "#select path to DICs\n",
    "path_DICs=r'.\\data\\YET862_ASH1Q670_CLB2Q670_DOA1C610_Ms2v6Q57_00_DIC-100.tif'\n",
    "#shape of your multichannel fluorescent zstack image (c,z,x,y)\n",
    "shape=(4,41,2304,2304)\n",
    "#which layers are in focus?\n",
    "focus=[23,35]\n",
    "#channel order\n",
    "channels=['CY3_5','CY3','DAPI','CY5']\n",
    "#colors to display different channels in Napari\n",
    "colors=['green','red','blue','bop purple']"
   ]
  },
  {
   "cell_type": "markdown",
   "id": "bd847781",
   "metadata": {},
   "source": [
    "Read images:"
   ]
  },
  {
   "cell_type": "code",
   "execution_count": null,
   "id": "a94515c2",
   "metadata": {},
   "outputs": [],
   "source": [
    "#read files\n",
    "filenames=glob(path_imgs)\n",
    "img=io.imread(filenames[0], plugin='pil')\n",
    "print(img.shape)\n",
    "img=np.reshape(img,shape)\n",
    "DIC_filenames=glob(path_DICs)\n",
    "DIC=io.imread(DIC_filenames[0])\n",
    "print(img.shape,DIC.shape)"
   ]
  },
  {
   "cell_type": "markdown",
   "id": "23faf1e0",
   "metadata": {},
   "source": [
    "Perform zprojection on the fluorescent multichannel imagestack."
   ]
  },
  {
   "cell_type": "code",
   "execution_count": 6,
   "id": "3099f0b2",
   "metadata": {},
   "outputs": [
    {
     "name": "stdout",
     "output_type": "stream",
     "text": [
      "(164, 2304, 2304)\n",
      "(4, 41, 2304, 2304) (2304, 2304)\n"
     ]
    },
    {
     "data": {
      "text/plain": [
       "(4, 2304, 2304)"
      ]
     },
     "execution_count": 6,
     "metadata": {},
     "output_type": "execute_result"
    }
   ],
   "source": [
    "#zproject\n",
    "zproject=np.amax(img[:,focus[0]:focus[1],...],axis=1,keepdims=False)\n",
    "zproject.shape"
   ]
  },
  {
   "cell_type": "markdown",
   "id": "9fb50eeb",
   "metadata": {},
   "source": [
    "Instantiate napari viewer and add the example images."
   ]
  },
  {
   "cell_type": "code",
   "execution_count": 8,
   "id": "08d7d41d",
   "metadata": {},
   "outputs": [],
   "source": [
    "viewer= napari.Viewer()\n",
    "viewer.add_image(DIC, name='DIC', opacity=0.50)\n",
    "for i in range(zproject.shape[0]):\n",
    "    viewer.add_image(zproject[i,...],name=channels[i],colormap=colors[i],opacity=0.30)"
   ]
  }
 ],
 "metadata": {
  "kernelspec": {
   "display_name": "napari",
   "language": "python",
   "name": "napari"
  },
  "language_info": {
   "codemirror_mode": {
    "name": "ipython",
    "version": 3
   },
   "file_extension": ".py",
   "mimetype": "text/x-python",
   "name": "python",
   "nbconvert_exporter": "python",
   "pygments_lexer": "ipython3",
   "version": "3.9.13"
  }
 },
 "nbformat": 4,
 "nbformat_minor": 5
}
